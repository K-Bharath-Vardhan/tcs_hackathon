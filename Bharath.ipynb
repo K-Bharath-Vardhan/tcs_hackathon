{
  "nbformat": 4,
  "nbformat_minor": 0,
  "metadata": {
    "colab": {
      "provenance": []
    },
    "kernelspec": {
      "name": "python3",
      "display_name": "Python 3"
    },
    "language_info": {
      "name": "python"
    }
  },
  "cells": [
    {
      "cell_type": "code",
      "source": [
        "import pandas as pd\n",
        "import numpy as np\n",
        "from sklearn.cluster import KMeans, AgglomerativeClustering, DBSCAN\n",
        "from sklearn.mixture import GaussianMixture\n",
        "from sklearn.preprocessing import LabelEncoder, StandardScaler\n",
        "from sklearn.decomposition import PCA\n",
        "from sklearn.metrics import accuracy_score, precision_score, recall_score, f1_score\n",
        "\n",
        "# Load dataset\n",
        "df = pd.read_csv(\"german_credit_data.csv\")\n",
        "\n",
        "# Handle missing values (replace 'NA' with 'unknown')\n",
        "df.replace(\"NA\", \"unknown\", inplace=True)\n",
        "\n",
        "# Encode categorical features\n",
        "categorical_cols = ['Sex', 'Housing', 'Saving accounts', 'Checking account', 'Purpose']\n",
        "for col in categorical_cols:\n",
        "    le = LabelEncoder()\n",
        "    df[col] = le.fit_transform(df[col].astype(str))\n",
        "\n",
        "# Simulated labels: high credit amount AND high duration → bad credit\n",
        "y_true = (\n",
        "    (df['Credit amount'] > df['Credit amount'].mean()) &\n",
        "    (df['Duration'] > df['Duration'].mean())\n",
        ").astype(int)\n",
        "\n",
        "\n",
        "credit_duration_ratio = df['Credit amount'] / (df['Duration'] + 1)\n",
        "X = df.copy()\n",
        "X['Credit/Dur'] = credit_duration_ratio\n",
        "\n",
        "# Standardize features\n",
        "scaler = StandardScaler()\n",
        "X_scaled = scaler.fit_transform(X)\n",
        "\n",
        "# Dimensionality reduction using PCA\n",
        "pca = PCA(n_components=0.95, random_state=42)\n",
        "X_pca = pca.fit_transform(X_scaled)\n",
        "\n",
        "# Helper to align cluster labels\n",
        "def align_labels(y_true, y_pred):\n",
        "    if precision_score(y_true, y_pred) < 0.5:\n",
        "        return 1 - y_pred\n",
        "    return y_pred\n",
        "\n",
        "# Evaluation function\n",
        "def evaluate_model(name, y_true, y_pred):\n",
        "    print(f\"\\n=== {name} Evaluation ===\")\n",
        "    print(f\"Accuracy:  {accuracy_score(y_true, y_pred):.4f}\")\n",
        "    print(f\"Precision: {precision_score(y_true, y_pred):.4f}\")\n",
        "    print(f\"Recall:    {recall_score(y_true, y_pred):.4f}\")\n",
        "    print(f\"F1 Score:  {f1_score(y_true, y_pred):.4f}\")\n",
        "\n",
        "# =============================\n",
        "# 1. Gaussian Mixture Model\n",
        "# =============================\n",
        "gmm = GaussianMixture(n_components=2, random_state=42)\n",
        "y_gmm = gmm.fit_predict(X_pca)\n",
        "y_gmm_aligned = align_labels(y_true, y_gmm)\n",
        "evaluate_model(\"Gaussian Mixture\", y_true, y_gmm_aligned)\n",
        "\n",
        "\n"
      ],
      "metadata": {
        "id": "fH2O9-8rFn7X",
        "colab": {
          "base_uri": "https://localhost:8080/"
        },
        "outputId": "1f181850-b12f-4fdf-d53a-60f843965847"
      },
      "execution_count": 4,
      "outputs": [
        {
          "output_type": "stream",
          "name": "stdout",
          "text": [
            "\n",
            "=== Gaussian Mixture Evaluation ===\n",
            "Accuracy:  0.8360\n",
            "Precision: 0.6872\n",
            "Recall:    0.6549\n",
            "F1 Score:  0.6707\n"
          ]
        }
      ]
    },
    {
      "cell_type": "code",
      "source": [],
      "metadata": {
        "id": "xHjU49XdO-KC"
      },
      "execution_count": null,
      "outputs": []
    }
  ]
}